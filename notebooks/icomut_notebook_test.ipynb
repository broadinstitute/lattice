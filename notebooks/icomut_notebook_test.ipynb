{
 "cells": [
  {
   "cell_type": "code",
   "execution_count": null,
   "metadata": {
    "scrolled": false
   },
   "outputs": [],
   "source": [
    "# FOR DEV PURPOSES - to reload modules whenever changes are made\n",
    "import importlib\n",
    "importlib.reload(icomut)"
   ]
  },
  {
   "cell_type": "code",
   "execution_count": null,
   "metadata": {},
   "outputs": [],
   "source": [
    "# this bit of code allows use more horizontal space in the notebook, if desired.\n",
    "from IPython.core.display import display, HTML\n",
    "display(HTML(\"<style>.container {width:80% !important;}</style>\"))"
   ]
  },
  {
   "cell_type": "markdown",
   "metadata": {},
   "source": [
    "### First, we load the Python wrapper for the iCoMut visualization.\n",
    "This wrapper contains the Python functions that the notebook can call to create the visualization."
   ]
  },
  {
   "cell_type": "code",
   "execution_count": 1,
   "metadata": {
    "scrolled": false
   },
   "outputs": [
    {
     "name": "stdout",
     "output_type": "stream",
     "text": [
      "icomut Python wrapper loaded!\n"
     ]
    }
   ],
   "source": [
    "# import py_modules.icomut_loader as icomut\n",
    "from py_modules.icomut_loader import plot_icomut"
   ]
  },
  {
   "cell_type": "markdown",
   "metadata": {},
   "source": [
    "### Then, we load the JS wrapper.\n",
    "The JS wrapper contains JS functions called by the Python wrapper to interact with the icomut visualization.\n",
    "It includes functionality specific to the notebook, including:\n",
    "- HTML clean up (in case a cell was re-run)\n",
    "- setting up the proper containers\n",
    "- creating data objects from user input in a manner understood by the icomut visualization\n",
    "- instantiating the plot\n",
    "\n",
    "This file is what actually what requires the viz JS package."
   ]
  },
  {
   "cell_type": "code",
   "execution_count": 2,
   "metadata": {
    "scrolled": false
   },
   "outputs": [
    {
     "data": {
      "application/javascript": [
       "require.undef(\"icomut\");\n",
       "define(\"icomut\", [\"icomut/build/js/icomut.umd.min.js\"], function (icomut) {\n",
       "    /**\n",
       "     * finds all old tooltip divs that were appended to the HTML body (by lattice.js)\n",
       "     * and removes them if no corresponding SVG exists.\n",
       "     */\n",
       "    const cleanUpTooltips = () => {\n",
       "        $(`.ljs--tooltip`).each(function (i) {\n",
       "            const tooltipId = $(this).attr(\"id\");\n",
       "            const tooltipSuffixIndex = tooltipId.indexOf(\"-tooltip\");\n",
       "            const svgContainerId = tooltipId.substring(0, tooltipSuffixIndex);\n",
       "            // SVG container is no longer there\n",
       "            if (!$(`#${svgContainerId}`).length) {\n",
       "                $(this).remove();\n",
       "            }\n",
       "        });\n",
       "    };\n",
       "\n",
       "    function draw(container, dataFile, configFile) {\n",
       "        cleanUpTooltips();\n",
       "        const vizContainerId = `ljs--${new Date().getTime()}`;\n",
       "        const dataFiles = {\n",
       "            config: configFile,\n",
       "            data: dataFile\n",
       "        };\n",
       "\n",
       "        // jupyter notebook cuts off width + height of plot if it's larger than the possible width\n",
       "        // the scrolling within the notebook still doesn't display the entire plot,\n",
       "        // so we will constrain it to be no larger in width than possible within the user's notebook\n",
       "        const containerWidth = $(container).width();\n",
       "        $(container).append(`<div class=\"ljs--grid\" id=\"${vizContainerId}\"></div>`);\n",
       "        icomut.init(vizContainerId, dataFiles, containerWidth);\n",
       "    }\n",
       "    return draw;\n",
       "});\n",
       "\n",
       "element.append(`${new Date().toLocaleString()}: icomut_py.js successfully loaded!`);"
      ],
      "text/plain": [
       "<IPython.core.display.Javascript object>"
      ]
     },
     "execution_count": 2,
     "metadata": {},
     "output_type": "execute_result"
    }
   ],
   "source": [
    "from IPython.display import Javascript\n",
    "Javascript(filename=\"py_modules/icomut_py.js\")"
   ]
  },
  {
   "cell_type": "markdown",
   "metadata": {},
   "source": [
    "### Last bit of setup: Load the CSS.\n",
    "This file contains CSS specific to the lattice.js framework and icomut visualization. Custom CSS can also be included in this (or as a separate file)."
   ]
  },
  {
   "cell_type": "code",
   "execution_count": 3,
   "metadata": {
    "scrolled": false
   },
   "outputs": [
    {
     "data": {
      "text/html": [
       "<style>\n",
       "    .icomut-clickable-label{cursor:pointer}.legend-item>text,.panel-label{fill:#3f3f3f}.legend-item>rect{stroke-width:1;stroke:#6a6a6a;rx:2}.legend-item>text{font-size:12px}.ljs--x-axis>.tick line,.ljs--x-axis path,.ljs--y-axis>.tick line,.ljs--y-axis path{stroke:#3f3f3f!important}.ljs--x-axis text,.ljs--y-axis text{color:#3f3f3f!important}text.ljs--y-axis-label{fill:#3f3f3f;font-size:12px}.ljs--mouseover{stroke-width:1;stroke:#6a6a6a}.ljs--areaplot-path{fill:#b2b2b2;stroke:#b2b2b2;fill-opacity:.5;stroke-width:.75;stroke-linejoin:round;stroke-linecap:round}.ljs--barcode-line{stroke:#b2b2b2;stroke-width:.1rem}.ljs--lineplot-path{fill:none;stroke:#b2b2b2;stroke-width:1;stroke-linejoin:round;stroke-linecap:round}.ljs--tooltip{display:none;position:absolute;z-index:4000;min-width:50px;padding:8px;text-align:left;background-color:hsla(0,0%,100%,.95);line-height:1.5;font-size:.75rem}.ljs--x-axis text,.ljs--y-axis text{font-size:.55rem;font-weight:300;color:grey}.ljs--x-axis>.tick line,.ljs--x-axis path,.ljs--y-axis>.tick line,.ljs--y-axis path{stroke-width:.5px;stroke:#b2b2b2}\n",
       "</style>"
      ],
      "text/plain": [
       "<IPython.core.display.HTML object>"
      ]
     },
     "execution_count": 3,
     "metadata": {},
     "output_type": "execute_result"
    }
   ],
   "source": [
    "from IPython.display import HTML\n",
    "HTML(filename=\"./icomut/build/css/icomut.umd.min.css.html\")"
   ]
  },
  {
   "cell_type": "code",
   "execution_count": 7,
   "metadata": {},
   "outputs": [],
   "source": [
    "# shared config file\n",
    "config_file = \"./icomut/src/config/notebook_config.json\""
   ]
  },
  {
   "cell_type": "code",
   "execution_count": 8,
   "metadata": {
    "scrolled": false
   },
   "outputs": [
    {
     "data": {
      "application/javascript": [
       "\n",
       "        (function(element){\n",
       "            require(['icomut'], function(icomut) {\n",
       "                icomut(element.get(0), './icomut/data/ACC-TP.coMut_table.json', './icomut/src/config/notebook_config.json');\n",
       "            });\n",
       "        })(element);\n",
       "    "
      ],
      "text/plain": [
       "<IPython.core.display.Javascript object>"
      ]
     },
     "metadata": {},
     "output_type": "display_data"
    }
   ],
   "source": [
    "data_file = \"./icomut/data/ACC-TP.coMut_table.json\"\n",
    "plot_icomut(data_file, config_file)"
   ]
  },
  {
   "cell_type": "code",
   "execution_count": 9,
   "metadata": {
    "scrolled": false
   },
   "outputs": [
    {
     "data": {
      "application/javascript": [
       "\n",
       "        (function(element){\n",
       "            require(['icomut'], function(icomut) {\n",
       "                icomut(element.get(0), './icomut/data/SARC-TP.coMut_table.json', './icomut/src/config/notebook_config.json');\n",
       "            });\n",
       "        })(element);\n",
       "    "
      ],
      "text/plain": [
       "<IPython.core.display.Javascript object>"
      ]
     },
     "metadata": {},
     "output_type": "display_data"
    }
   ],
   "source": [
    "data_file = \"./icomut/data/SARC-TP.coMut_table.json\"\n",
    "plot_icomut(data_file, config_file)"
   ]
  },
  {
   "cell_type": "code",
   "execution_count": null,
   "metadata": {
    "scrolled": false
   },
   "outputs": [],
   "source": []
  },
  {
   "cell_type": "code",
   "execution_count": null,
   "metadata": {
    "scrolled": true
   },
   "outputs": [],
   "source": []
  }
 ],
 "metadata": {
  "kernelspec": {
   "display_name": "lattice-venv",
   "language": "python",
   "name": "lattice-venv"
  },
  "language_info": {
   "codemirror_mode": {
    "name": "ipython",
    "version": 3
   },
   "file_extension": ".py",
   "mimetype": "text/x-python",
   "name": "python",
   "nbconvert_exporter": "python",
   "pygments_lexer": "ipython3",
   "version": "3.7.5"
  }
 },
 "nbformat": 4,
 "nbformat_minor": 2
}
